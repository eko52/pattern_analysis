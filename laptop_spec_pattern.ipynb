{
 "cells": [
  {
   "cell_type": "code",
   "execution_count": 15,
   "id": "49e279b8",
   "metadata": {},
   "outputs": [],
   "source": [
    "import pandas as pd\n",
    "import re\n",
    "import data_patterns"
   ]
  },
  {
   "cell_type": "code",
   "execution_count": 16,
   "id": "e6229a10",
   "metadata": {},
   "outputs": [],
   "source": [
    "import warnings\n",
    "warnings.filterwarnings(\"ignore\", category=FutureWarning)"
   ]
  },
  {
   "cell_type": "code",
   "execution_count": 17,
   "id": "a8cadb9f",
   "metadata": {},
   "outputs": [],
   "source": [
    "df = pd.read_csv('laptop_price.csv', encoding = \"ISO-8859-1\")"
   ]
  },
  {
   "cell_type": "code",
   "execution_count": 18,
   "id": "1919544c",
   "metadata": {},
   "outputs": [],
   "source": [
    "df.loc[(df['Cpu'].str).contains('i3', flags=re.IGNORECASE), 'Cpu'] = 'i3'\n",
    "df.loc[df['Cpu'].str.contains('i5', flags=re.IGNORECASE), 'Cpu'] = 'i5'\n",
    "df.loc[df['Cpu'].str.contains('i7', flags=re.IGNORECASE), 'Cpu'] = 'i7'"
   ]
  },
  {
   "cell_type": "code",
   "execution_count": 19,
   "id": "03dd6acb",
   "metadata": {},
   "outputs": [],
   "source": [
    "df.set_index('laptop_ID', inplace = True)"
   ]
  },
  {
   "cell_type": "code",
   "execution_count": 20,
   "id": "a7b0c5b9",
   "metadata": {},
   "outputs": [],
   "source": [
    "miner = data_patterns.PatternMiner(df)"
   ]
  },
  {
   "cell_type": "code",
   "execution_count": 21,
   "id": "25c8b341",
   "metadata": {},
   "outputs": [
    {
     "name": "stderr",
     "output_type": "stream",
     "text": [
      "100%|███████████████████████████████████████████████████████████████████████████████████| 1/1 [00:00<00:00, 124.95it/s]"
     ]
    },
    {
     "name": "stdout",
     "output_type": "stream",
     "text": [
      "=============================================================================================\n",
      "\n",
      "Pattern Analysis result for 'Laptop with Core i3 Cpu price is greater than 400 euros'\n",
      "\n",
      "index\n",
      "0    IF {\"Cpu\"} = \"i3\" THEN {\"Price_euros\"} > 400\n",
      "Name: pattern_def, dtype: object\n",
      "\n",
      "index\n",
      "0    120\n",
      "Name: support, dtype: int64\n",
      "\n",
      "index\n",
      "0    16\n",
      "Name: exceptions, dtype: int64\n",
      "\n",
      "index\n",
      "0    0.8824\n",
      "Name: confidence, dtype: object\n",
      "=============================================================================================\n"
     ]
    },
    {
     "name": "stderr",
     "output_type": "stream",
     "text": [
      "\n"
     ]
    }
   ],
   "source": [
    "df_patterns = miner.find({'name'     : 'Laptop with Core i3 Cpu price is greater than 400 euros',\n",
    "    'pattern'  : '-->',\n",
    "    'expression'   : 'IF {\"Cpu\"} = \"i3\" THEN {\"Price_euros\"} > 400',\n",
    "    'parameters' : {\"min_confidence\" : 0.8, \"min_support\" : 30}})\n",
    "\n",
    "print(\"=============================================================================================\")\n",
    "print(\"\\nPattern Analysis result for 'Laptop with Core i3 Cpu price is greater than 400 euros'\")\n",
    "print()\n",
    "print(df_patterns['pattern_def'])\n",
    "print()\n",
    "print(df_patterns['support'])\n",
    "print()\n",
    "print(df_patterns['exceptions'])\n",
    "print()\n",
    "print(df_patterns['confidence'])\n",
    "print(\"=============================================================================================\")"
   ]
  },
  {
   "cell_type": "code",
   "execution_count": 22,
   "id": "b7ee7538",
   "metadata": {},
   "outputs": [
    {
     "name": "stderr",
     "output_type": "stream",
     "text": [
      "100%|███████████████████████████████████████████████████████████████████████████████████| 1/1 [00:00<00:00, 146.94it/s]"
     ]
    },
    {
     "name": "stdout",
     "output_type": "stream",
     "text": [
      "=============================================================================================\n",
      "\n",
      "Pattern Analysis result for 'Laptop with Core i5 Cpu, price is greater than 600 euros'\n",
      "\n",
      "index\n",
      "0    IF {\"Cpu\"} = \"i5\" THEN {\"Price_euros\"} > 600\n",
      "Name: pattern_def, dtype: object\n",
      "\n",
      "index\n",
      "0    369\n",
      "Name: support, dtype: int64\n",
      "\n",
      "index\n",
      "0    54\n",
      "Name: exceptions, dtype: int64\n",
      "\n",
      "index\n",
      "0    0.8723\n",
      "Name: confidence, dtype: object\n",
      "=============================================================================================\n"
     ]
    },
    {
     "name": "stderr",
     "output_type": "stream",
     "text": [
      "\n"
     ]
    }
   ],
   "source": [
    "df_patterns = miner.find({'name'     : 'Laptop with Core i5 Cpu price is greater than 600 euros',\n",
    "    'pattern'  : '-->',\n",
    "    'expression'   : 'IF {\"Cpu\"} = \"i5\" THEN {\"Price_euros\"} > 600',\n",
    "    'parameters' : {\"min_confidence\" : 0.8, \"min_support\" : 30}})\n",
    "\n",
    "print(\"=============================================================================================\")\n",
    "print(\"\\nPattern Analysis result for 'Laptop with Core i5 Cpu, price is greater than 600 euros'\")\n",
    "print()\n",
    "print(df_patterns['pattern_def'])\n",
    "print()\n",
    "print(df_patterns['support'])\n",
    "print()\n",
    "print(df_patterns['exceptions'])\n",
    "print()\n",
    "print(df_patterns['confidence'])\n",
    "print(\"=============================================================================================\")"
   ]
  },
  {
   "cell_type": "code",
   "execution_count": 23,
   "id": "db14fcc4",
   "metadata": {},
   "outputs": [
    {
     "name": "stderr",
     "output_type": "stream",
     "text": [
      "100%|███████████████████████████████████████████████████████████████████████████████████| 1/1 [00:00<00:00, 199.07it/s]"
     ]
    },
    {
     "name": "stdout",
     "output_type": "stream",
     "text": [
      "=============================================================================================\n",
      "\n",
      "Pattern Analysis result for 'Laptop with Core i7 Cpu, price is greater than 850 euros'\n",
      "\n",
      "index\n",
      "0    IF {\"Cpu\"} = \"i7\" THEN {\"Price_euros\"} > 850\n",
      "Name: pattern_def, dtype: object\n",
      "\n",
      "index\n",
      "0    463\n",
      "Name: support, dtype: int64\n",
      "\n",
      "index\n",
      "0    64\n",
      "Name: exceptions, dtype: int64\n",
      "\n",
      "index\n",
      "0    0.8786\n",
      "Name: confidence, dtype: object\n",
      "=============================================================================================\n"
     ]
    },
    {
     "name": "stderr",
     "output_type": "stream",
     "text": [
      "\n"
     ]
    }
   ],
   "source": [
    "df_patterns = miner.find({'name'     : 'Laptop with Core i7 Cpu, price is greater than 850 euros',\n",
    "    'pattern'  : '-->',\n",
    "    'expression'   : 'IF {\"Cpu\"} = \"i7\" THEN {\"Price_euros\"} > 850',\n",
    "    'parameters' : {\"min_confidence\" : 0.8, \"min_support\" : 30}})\n",
    "\n",
    "print(\"=============================================================================================\")\n",
    "print(\"\\nPattern Analysis result for 'Laptop with Core i7 Cpu, price is greater than 850 euros'\")\n",
    "print()\n",
    "print(df_patterns['pattern_def'])\n",
    "print()\n",
    "print(df_patterns['support'])\n",
    "print()\n",
    "print(df_patterns['exceptions'])\n",
    "print()\n",
    "print(df_patterns['confidence'])\n",
    "print(\"=============================================================================================\")"
   ]
  },
  {
   "cell_type": "code",
   "execution_count": 24,
   "id": "6427d443",
   "metadata": {},
   "outputs": [
    {
     "name": "stderr",
     "output_type": "stream",
     "text": [
      "100%|███████████████████████████████████████████████████████████████████████████████████| 1/1 [00:00<00:00, 194.85it/s]"
     ]
    },
    {
     "name": "stdout",
     "output_type": "stream",
     "text": [
      "=============================================================================================\n",
      "\n",
      "Pattern Analysis result for 'Laptop produced by Apple, price is greater than 1000 euros'\n",
      "\n",
      "index\n",
      "0    IF {\"Company\"} = \"Apple\" THEN {\"Price_euros\"} ...\n",
      "Name: pattern_def, dtype: object\n",
      "\n",
      "index\n",
      "0    18\n",
      "Name: support, dtype: int64\n",
      "\n",
      "index\n",
      "0    3\n",
      "Name: exceptions, dtype: int64\n",
      "\n",
      "index\n",
      "0    0.8571\n",
      "Name: confidence, dtype: object\n",
      "=============================================================================================\n"
     ]
    },
    {
     "name": "stderr",
     "output_type": "stream",
     "text": [
      "\n"
     ]
    }
   ],
   "source": [
    "df_patterns = miner.find({'name'     : 'Laptop produced by Apple, price is greater than 1000 euros',\n",
    "    'pattern'  : '-->',\n",
    "    'expression'   : 'IF {\"Company\"} = \"Apple\" THEN {\"Price_euros\"} > 1000',\n",
    "    'parameters' : {\"min_confidence\" : 0.8, \"min_support\" : 10}})\n",
    "\n",
    "print(\"=============================================================================================\")\n",
    "print(\"\\nPattern Analysis result for 'Laptop produced by Apple, price is greater than 1000 euros'\")\n",
    "print()\n",
    "print(df_patterns['pattern_def'])\n",
    "print()\n",
    "print(df_patterns['support'])\n",
    "print()\n",
    "print(df_patterns['exceptions'])\n",
    "print()\n",
    "print(df_patterns['confidence'])\n",
    "print(\"=============================================================================================\")"
   ]
  },
  {
   "cell_type": "code",
   "execution_count": 25,
   "id": "999726ce",
   "metadata": {},
   "outputs": [
    {
     "name": "stderr",
     "output_type": "stream",
     "text": [
      "100%|████████████████████████████████████████████████████████████████████████████████████| 1/1 [00:00<00:00, 74.38it/s]"
     ]
    },
    {
     "name": "stdout",
     "output_type": "stream",
     "text": [
      "=============================================================================================\n",
      "\n",
      "Pattern Analysis result for 'Laptop Not produced by Apple with i3 or i5 Cpu, price is lower than 1200 euros'\n",
      "\n",
      "index\n",
      "0    IF ({\"Company\"} != \"Apple\" & ({\"Cpu\"} = \"i3\" |...\n",
      "Name: pattern_def, dtype: object\n",
      "\n",
      "index\n",
      "0    459\n",
      "Name: support, dtype: int64\n",
      "\n",
      "index\n",
      "0    100\n",
      "Name: exceptions, dtype: int64\n",
      "\n",
      "index\n",
      "0    0.8211\n",
      "Name: confidence, dtype: object\n",
      "=============================================================================================\n"
     ]
    },
    {
     "name": "stderr",
     "output_type": "stream",
     "text": [
      "\n"
     ]
    }
   ],
   "source": [
    "df_patterns = miner.find({'name'     : 'Laptop Not produced by Apple with i3 or i5 Cpu, price is lower than 1200 euros',\n",
    "    'pattern'  : '-->',\n",
    "    'expression'   : 'IF ({\"Company\"} != \"Apple\" & ({\"Cpu\"} = \"i3\" | {\"Cpu\"} = \"i5\")) THEN {\"Price_euros\"} < 1200',\n",
    "    'parameters' : {\"min_confidence\" : 0.8, \"min_support\" : 30}})\n",
    "\n",
    "print(\"=============================================================================================\")\n",
    "print(\"\\nPattern Analysis result for 'Laptop Not produced by Apple with i3 or i5 Cpu, price is lower than 1200 euros'\")\n",
    "print()\n",
    "print(df_patterns['pattern_def'])\n",
    "print()\n",
    "print(df_patterns['support'])\n",
    "print()\n",
    "print(df_patterns['exceptions'])\n",
    "print()\n",
    "print(df_patterns['confidence'])\n",
    "print(\"=============================================================================================\")"
   ]
  },
  {
   "cell_type": "code",
   "execution_count": null,
   "id": "0e6808c6",
   "metadata": {},
   "outputs": [],
   "source": []
  }
 ],
 "metadata": {
  "kernelspec": {
   "display_name": "Python 3 (ipykernel)",
   "language": "python",
   "name": "python3"
  },
  "language_info": {
   "codemirror_mode": {
    "name": "ipython",
    "version": 3
   },
   "file_extension": ".py",
   "mimetype": "text/x-python",
   "name": "python",
   "nbconvert_exporter": "python",
   "pygments_lexer": "ipython3",
   "version": "3.10.4"
  }
 },
 "nbformat": 4,
 "nbformat_minor": 5
}
